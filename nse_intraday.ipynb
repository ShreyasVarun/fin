{
 "cells": [
  {
   "cell_type": "code",
   "execution_count": null,
   "id": "b8160027",
   "metadata": {},
   "outputs": [],
   "source": [
    "'jai guru dev'\n",
    "'om gam ganapataye namah'"
   ]
  },
  {
   "cell_type": "code",
   "execution_count": null,
   "id": "57b39169",
   "metadata": {},
   "outputs": [],
   "source": [
    "'git commit via bash shell script'\n",
    "import requests\n",
    "import pandas as pd\n",
    "import numpy as np\n",
    "from datetime import datetime\n",
    "pd.set_option('display.max_rows', 500)"
   ]
  },
  {
   "cell_type": "code",
   "execution_count": null,
   "id": "47baca69",
   "metadata": {},
   "outputs": [],
   "source": [
    "def intraday2(stock,interval='1m',rangee='1d'):\n",
    "#     stock='ICICIBANK';interval='1m';rangee='1d'\n",
    "    url = f'https://query1.finance.yahoo.com/v7/finance/chart/{stock}.NS?&interval={interval}&range={rangee}'\n",
    "    ab = requests.get(url)\n",
    "    asd = ab.json()\n",
    "    asd_list = asd.get('chart').get('result')\n",
    "    sto_dict = asd_list[0].get('indicators').get('quote')[0]\n",
    "    df = pd.DataFrame.from_dict(sto_dict)\n",
    "    df['timestamp'] = asd_list[0].get('timestamp')\n",
    "    df['timestamp'] = df['timestamp'].apply(lambda x:datetime.fromtimestamp(x))\n",
    "    df = df.set_index('timestamp')\n",
    "    df = df[['open','high','low','close','volume']]\n",
    "    return df"
   ]
  },
  {
   "cell_type": "code",
   "execution_count": null,
   "id": "f0bc2f6c",
   "metadata": {},
   "outputs": [],
   "source": [
    "df2 = intraday2('MAXHEALTH','1m','7d')"
   ]
  },
  {
   "cell_type": "code",
   "execution_count": null,
   "id": "4e346523",
   "metadata": {
    "scrolled": false
   },
   "outputs": [],
   "source": [
    "def df_process(df)   :\n",
    "    df['VA'] = (df['volume'].shift(1).rolling(window=5).mean())\n",
    "    # df['PA'] = (df['close'].ewm(span=5).mean()).round(2)\n",
    "    df['PA'] = (df['close'].shift(1).rolling(window=5).mean())\n",
    "    df['VR'] = (df['volume']/df['VA'])\n",
    "    df['PR'] = ((df['close']/df['PA']-1)*10000)\n",
    "    df['VA2'] = (df['VR'].shift(1).rolling(window=5).mean())\n",
    "    df['PA2'] = (df['PR'].shift(1).rolling(window=5).mean())\n",
    "    df['VR2'] = (df['VR']/df['VA2'])\n",
    "    df['PR2'] = ((df['PR']/df['PA2']))\n",
    "    df['signal'] = ['signal' if vr > 1.5 and (vr2>1.5 or vr2<0.5) and (pr2<-5 or pr2 >5) else '-' for vr,vr2,pr2 in zip(df['VR'],df['VR2'],df['PR2']) ]\n",
    "    return df"
   ]
  },
  {
   "cell_type": "code",
   "execution_count": null,
   "id": "37455e0f",
   "metadata": {},
   "outputs": [],
   "source": [
    "df = df_process(df2)"
   ]
  },
  {
   "cell_type": "code",
   "execution_count": null,
   "id": "c70b86c9",
   "metadata": {
    "scrolled": true
   },
   "outputs": [],
   "source": [
    "df.round(2)"
   ]
  },
  {
   "cell_type": "code",
   "execution_count": null,
   "id": "7675557c",
   "metadata": {},
   "outputs": [],
   "source": [
    "dfg = df2.groupby(pd.Grouper(level='timestamp',freq='D'))"
   ]
  },
  {
   "cell_type": "code",
   "execution_count": null,
   "id": "15013b33",
   "metadata": {},
   "outputs": [],
   "source": [
    "# dfg = df2.groupby(df2.index)\n",
    "df2['date'] = [a.date() for a in df2.index]\n",
    "x = df2.groupby(['date'],as_index=False)\n",
    "fgh = list(x)"
   ]
  },
  {
   "cell_type": "code",
   "execution_count": null,
   "id": "48043f69",
   "metadata": {},
   "outputs": [],
   "source": [
    "proc_list = [df_process(d[1]) for i,d in enumerate(fgh)]"
   ]
  },
  {
   "cell_type": "code",
   "execution_count": null,
   "id": "f8afbc87",
   "metadata": {},
   "outputs": [],
   "source": [
    "proc_list[1].round(2)"
   ]
  },
  {
   "cell_type": "code",
   "execution_count": null,
   "id": "a7dd03ba",
   "metadata": {},
   "outputs": [],
   "source": []
  }
 ],
 "metadata": {
  "kernelspec": {
   "display_name": "Python [conda env:fin]",
   "language": "python",
   "name": "conda-env-fin-py"
  },
  "language_info": {
   "codemirror_mode": {
    "name": "ipython",
    "version": 3
   },
   "file_extension": ".py",
   "mimetype": "text/x-python",
   "name": "python",
   "nbconvert_exporter": "python",
   "pygments_lexer": "ipython3",
   "version": "3.8.10"
  }
 },
 "nbformat": 4,
 "nbformat_minor": 5
}
